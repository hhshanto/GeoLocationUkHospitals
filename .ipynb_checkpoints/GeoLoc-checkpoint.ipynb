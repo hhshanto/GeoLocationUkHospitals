{
 "cells": [
  {
   "cell_type": "code",
   "execution_count": 1,
   "id": "3688a78d",
   "metadata": {},
   "outputs": [
    {
     "ename": "ModuleNotFoundError",
     "evalue": "No module named 'folium'",
     "output_type": "error",
     "traceback": [
      "\u001b[1;31m---------------------------------------------------------------------------\u001b[0m",
      "\u001b[1;31mModuleNotFoundError\u001b[0m                       Traceback (most recent call last)",
      "Cell \u001b[1;32mIn[1], line 5\u001b[0m\n\u001b[0;32m      3\u001b[0m \u001b[38;5;28;01mimport\u001b[39;00m \u001b[38;5;21;01mrequests\u001b[39;00m\n\u001b[0;32m      4\u001b[0m \u001b[38;5;28;01mimport\u001b[39;00m \u001b[38;5;21;01mcsv\u001b[39;00m\n\u001b[1;32m----> 5\u001b[0m \u001b[38;5;28;01mimport\u001b[39;00m \u001b[38;5;21;01mfolium\u001b[39;00m\n",
      "\u001b[1;31mModuleNotFoundError\u001b[0m: No module named 'folium'"
     ]
    }
   ],
   "source": [
    "import pandas as pd\n",
    "import numpy as np\n",
    "import requests\n",
    "import csv\n",
    "import folium"
   ]
  },
  {
   "cell_type": "code",
   "execution_count": null,
   "id": "34fc0840",
   "metadata": {},
   "outputs": [],
   "source": [
    "# Load the data\n",
    "df = pd.read_excel('MergedData.xlsx')\n",
    "\n",
    "# List of columns that contain hospital names\n",
    "columns = ['Providers_08_09', 'Providers_09_10', 'Providers_10_11', 'Providers_11_12', \n",
    "           'Providers_12_13', 'Providers_13_14', 'Providers_14_15', 'Providers_15_16', \n",
    "           'Providers_16_17', 'Providers_17_18', 'Providers_18_19', 'Providers_19_20', \n",
    "           'Providers_20_21', 'Providers_21_22']\n",
    "\n",
    "# Collect all unique hospital names\n",
    "hospitalsList = pd.unique(df[columns].values.ravel('K'))\n",
    "\n",
    "# Print the list of unique hospital names\n",
    "print(hospitalsList)\n"
   ]
  },
  {
   "cell_type": "code",
   "execution_count": null,
   "id": "3e3f0204",
   "metadata": {},
   "outputs": [],
   "source": [
    "# Remove nan values from the list\n",
    "hospitalsList = [hospital for hospital in hospitalsList if not pd.isnull(hospital)]"
   ]
  },
  {
   "cell_type": "code",
   "execution_count": null,
   "id": "336aa3d0",
   "metadata": {},
   "outputs": [],
   "source": [
    "print(len(hospitalsList))"
   ]
  },
  {
   "cell_type": "code",
   "execution_count": null,
   "id": "945e712c",
   "metadata": {},
   "outputs": [],
   "source": [
    "hospitalsList"
   ]
  },
  {
   "cell_type": "code",
   "execution_count": null,
   "id": "bc234933",
   "metadata": {},
   "outputs": [],
   "source": [
    "# Create a new list with only those names that contain 'Hospital', case-insensitive\n",
    "hospitals_with_word = [name for name in hospitalsList if isinstance(name, str) and 'hospital' in name.lower()]\n",
    "\n",
    "# Print the new list\n",
    "print(hospitals_with_word)"
   ]
  },
  {
   "cell_type": "code",
   "execution_count": null,
   "id": "3a77cc76",
   "metadata": {},
   "outputs": [],
   "source": [
    "print(len(hospitals_with_word))"
   ]
  },
  {
   "cell_type": "code",
   "execution_count": null,
   "id": "6a553d08",
   "metadata": {},
   "outputs": [],
   "source": [
    "hospitals = hospitalsList"
   ]
  },
  {
   "cell_type": "code",
   "execution_count": null,
   "id": "15fad019",
   "metadata": {},
   "outputs": [],
   "source": [
    "def search_place(api_key, query):\n",
    "    url = f\"https://maps.googleapis.com/maps/api/place/findplacefromtext/json?input={query}&inputtype=textquery&fields=photos,formatted_address,name,rating,opening_hours,geometry&key={api_key}&language=en\"\n",
    "    response = requests.get(url)\n",
    "    data = response.json()\n",
    "    if 'candidates' in data and len(data['candidates']) > 0:\n",
    "        place = data['candidates'][0]\n",
    "        return place\n",
    "    else:\n",
    "        return None\n",
    "\n",
    "api_key = 'API Key'\n",
    "\n",
    "# Open (or create) a CSV file for writing\n",
    "with open('hospital_data.csv', 'w', newline='', encoding='utf-8') as csvfile:\n",
    "    fieldnames = ['name', 'address', 'coordinates']\n",
    "    writer = csv.DictWriter(csvfile, fieldnames=fieldnames)\n",
    "\n",
    "    # Write the header row\n",
    "    writer.writeheader()\n",
    "\n",
    "    not_found_counter = 0  # Counter for places not found\n",
    "    \n",
    "    for hospital in hospitals:\n",
    "        query = hospital\n",
    "        try:\n",
    "            place = search_place(api_key, query)\n",
    "            if place:\n",
    "                print(f\"Place: {place['name']}\")\n",
    "                print(f\"Address: {place['formatted_address']}\")\n",
    "                print(f\"Coordinates: {place['geometry']['location']}\")\n",
    "\n",
    "                # Write the place data to the CSV file\n",
    "                writer.writerow({'name': place['name'], 'address': place['formatted_address'], 'coordinates': place['geometry']['location']})\n",
    "            else:\n",
    "                not_found_counter += 1\n",
    "                print(f\"Could not find place for {query}. Total not found: {not_found_counter}\")\n",
    "        except UnicodeEncodeError:\n",
    "            print(f\"UnicodeEncodeError occurred for {query}. Skipping this entry.\")\n"
   ]
  },
  {
   "cell_type": "code",
   "execution_count": null,
   "id": "6ea910ee",
   "metadata": {},
   "outputs": [],
   "source": [
    "not_found_counter"
   ]
  },
  {
   "cell_type": "markdown",
   "id": "57852be0",
   "metadata": {},
   "source": [
    "Could nopt find total 477 instances "
   ]
  },
  {
   "cell_type": "code",
   "execution_count": null,
   "id": "48b02fca",
   "metadata": {},
   "outputs": [],
   "source": []
  }
 ],
 "metadata": {
  "kernelspec": {
   "display_name": "Python 3 (ipykernel)",
   "language": "python",
   "name": "python3"
  },
  "language_info": {
   "codemirror_mode": {
    "name": "ipython",
    "version": 3
   },
   "file_extension": ".py",
   "mimetype": "text/x-python",
   "name": "python",
   "nbconvert_exporter": "python",
   "pygments_lexer": "ipython3",
   "version": "3.11.5"
  }
 },
 "nbformat": 4,
 "nbformat_minor": 5
}
