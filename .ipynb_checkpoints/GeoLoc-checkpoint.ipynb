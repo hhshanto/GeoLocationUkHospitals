{
 "cells": [
  {
   "cell_type": "code",
   "execution_count": null,
   "id": "3688a78d",
   "metadata": {},
   "outputs": [],
   "source": [
    "import pandas as pd\n",
    "import numpy as np\n",
    "import requests\n",
    "import csv\n",
    "import folium\n",
    "import ast"
   ]
  },
  {
   "cell_type": "code",
   "execution_count": null,
   "id": "34fc0840",
   "metadata": {},
   "outputs": [],
   "source": [
    "# Load the data\n",
    "df = pd.read_excel('MergedData.xlsx')\n",
    "\n",
    "# List of columns that contain hospital names\n",
    "columns = ['Providers_08_09', 'Providers_09_10', 'Providers_10_11', 'Providers_11_12', \n",
    "           'Providers_12_13', 'Providers_13_14', 'Providers_14_15', 'Providers_15_16', \n",
    "           'Providers_16_17', 'Providers_17_18', 'Providers_18_19', 'Providers_19_20', \n",
    "           'Providers_20_21', 'Providers_21_22']\n",
    "\n",
    "# Collect all unique hospital names\n",
    "hospitalsList = pd.unique(df[columns].values.ravel('K'))\n",
    "\n",
    "# Print the list of unique hospital names\n",
    "print(hospitalsList)\n"
   ]
  },
  {
   "cell_type": "code",
   "execution_count": null,
   "id": "3e3f0204",
   "metadata": {},
   "outputs": [],
   "source": [
    "# Remove nan values from the list\n",
    "hospitalsList = [hospital for hospital in hospitalsList if not pd.isnull(hospital)]"
   ]
  },
  {
   "cell_type": "code",
   "execution_count": null,
   "id": "336aa3d0",
   "metadata": {},
   "outputs": [],
   "source": [
    "print(len(hospitalsList))"
   ]
  },
  {
   "cell_type": "code",
   "execution_count": null,
   "id": "945e712c",
   "metadata": {},
   "outputs": [],
   "source": [
    "hospitalsList"
   ]
  },
  {
   "cell_type": "code",
   "execution_count": null,
   "id": "bc234933",
   "metadata": {},
   "outputs": [],
   "source": [
    "# Create a new list with only those names that contain 'Hospital', case-insensitive\n",
    "hospitals_with_word = [name for name in hospitalsList if isinstance(name, str) and 'hospital' in name.lower()]\n",
    "\n",
    "# Print the new list\n",
    "print(hospitals_with_word)"
   ]
  },
  {
   "cell_type": "code",
   "execution_count": null,
   "id": "3a77cc76",
   "metadata": {},
   "outputs": [],
   "source": [
    "print(len(hospitals_with_word))"
   ]
  },
  {
   "cell_type": "code",
   "execution_count": null,
   "id": "6a553d08",
   "metadata": {},
   "outputs": [],
   "source": [
    "hospitals = hospitalsList[:100]"
   ]
  },
  {
   "cell_type": "code",
   "execution_count": null,
   "id": "15fad019",
   "metadata": {},
   "outputs": [],
   "source": [
    "def search_place(api_key, query):\n",
    "    url = f\"https://maps.googleapis.com/maps/api/place/findplacefromtext/json?input={query}&inputtype=textquery&fields=photos,formatted_address,name,rating,opening_hours,geometry,place_id&key={api_key}&language=en\"\n",
    "    response = requests.get(url)\n",
    "    data = response.json()\n",
    "    if 'candidates' in data and len(data['candidates']) > 0:\n",
    "        place = data['candidates'][0]\n",
    "        return place\n",
    "    else:\n",
    "        return None\n",
    "\n",
    "api_key = ''\n",
    "\n",
    "# Open (or create) a CSV file for writing\n",
    "with open('hospital_data.csv', 'w', newline='', encoding='utf-8') as csvfile:\n",
    "    fieldnames = ['name', 'address', 'coordinates', 'place_id']\n",
    "    writer = csv.DictWriter(csvfile, fieldnames=fieldnames)\n",
    "\n",
    "    # Write the header row\n",
    "    writer.writeheader()\n",
    "\n",
    "    not_found_counter = 0  # Counter for places not found\n",
    "    \n",
    "    for hospital in hospitals:\n",
    "        query = hospital\n",
    "        try:\n",
    "            place = search_place(api_key, query)\n",
    "            if place:\n",
    "                print(f\"Place: {place['name']}\")\n",
    "                print(f\"Address: {place['formatted_address']}\")\n",
    "                print(f\"Coordinates: {place['geometry']['location']}\")\n",
    "                print(f\"Place ID: {place['place_id']}\")\n",
    "\n",
    "                # Write the place data to the CSV file\n",
    "                writer.writerow({'name': place['name'], 'address': place['formatted_address'], 'coordinates': place['geometry']['location'], 'place_id': place['place_id']})\n",
    "            else:\n",
    "                not_found_counter += 1\n",
    "                print(f\"Could not find place for {query}. Total not found: {not_found_counter}\")\n",
    "        except UnicodeEncodeError:\n",
    "            print(f\"UnicodeEncodeError occurred for {query}. Skipping this entry.\")\n"
   ]
  },
  {
   "cell_type": "code",
   "execution_count": null,
   "id": "6ea910ee",
   "metadata": {},
   "outputs": [],
   "source": [
    "not_found_counter"
   ]
  },
  {
   "cell_type": "markdown",
   "id": "57852be0",
   "metadata": {},
   "source": [
    "Could not find total 477 instances "
   ]
  },
  {
   "cell_type": "code",
   "execution_count": null,
   "id": "69ce6876",
   "metadata": {},
   "outputs": [],
   "source": [
    "# Load the CSV file\n",
    "df = pd.read_csv('hospital_data.csv')\n",
    "\n",
    "# Convert 'coordinates' from string to dictionary\n",
    "df['coordinates'] = df['coordinates'].apply(ast.literal_eval)\n",
    "\n",
    "# Extract 'lat' and 'lng' into separate columns\n",
    "df['latitude'] = df['coordinates'].apply(lambda x: x['lat'])\n",
    "df['longitude'] = df['coordinates'].apply(lambda x: x['lng'])\n",
    "\n",
    "# Select the first 50 rows\n",
    "\n",
    "# Create a map centered around the first coordinate\n",
    "m = folium.Map(location=[df['latitude'].iloc[0], df['longitude'].iloc[0]], zoom_start=13)\n",
    "\n",
    "# Add points to the map\n",
    "for index, row in df.iterrows():\n",
    "    folium.Marker([row['latitude'], row['longitude']], popup=row['name']).add_to(m)\n",
    "\n",
    "# Display the map\n",
    "m"
   ]
  },
  {
   "cell_type": "code",
   "execution_count": null,
   "id": "6bbccb5d",
   "metadata": {},
   "outputs": [],
   "source": [
    "# Create a new DataFrame with addresses not in the United Kingdom\n",
    "df_not_uk = df[~df['address'].str.contains('United Kingdom')]\n",
    "\n",
    "# Select the 'name' and 'address' columns\n",
    "df_not_uk = df_not_uk[['name', 'address']]\n",
    "\n",
    "# Convert the DataFrame to a list of dictionaries\n",
    "names_addresses_not_in_uk = df_not_uk.to_dict('records')"
   ]
  },
  {
   "cell_type": "code",
   "execution_count": null,
   "id": "86f39c4f",
   "metadata": {},
   "outputs": [],
   "source": [
    "names_addresses_not_in_uk"
   ]
  },
  {
   "cell_type": "code",
   "execution_count": null,
   "id": "38e25034",
   "metadata": {},
   "outputs": [],
   "source": [
    "def get_place_details(api_key, place_id):\n",
    "    url = f\"https://maps.googleapis.com/maps/api/place/details/json?place_id={place_id}&fields=name,rating,formatted_address,permanently_closed&key={api_key}\"\n",
    "    response = requests.get(url)\n",
    "    data = response.json()\n",
    "    if 'result' in data:\n",
    "        place = data['result']\n",
    "        return place\n",
    "    else:\n",
    "        return None\n",
    "\n",
    "api_key = ''\n",
    "\n",
    "# Open the CSV file for reading\n",
    "with open('hospital_data.csv', 'r', newline='', encoding='utf-8') as csvfile:\n",
    "    reader = csv.DictReader(csvfile)\n",
    "    \n",
    "    for row in reader:\n",
    "        place_id = row['place_id']\n",
    "        place = get_place_details(api_key, place_id)\n",
    "        if place:\n",
    "            print(f\"Name: {place['name']}\")\n",
    "            print(f\"Address: {place['formatted_address']}\")\n",
    "            if 'rating' in place:\n",
    "                print(f\"Rating: {place['rating']}\")\n",
    "            else:\n",
    "                print(\"No rating available for this place.\")\n",
    "            if 'permanently_closed' in place:\n",
    "                print(f\"Permanently Closed: {place['permanently_closed']}\")\n",
    "            else:\n",
    "                print(\"This place is not permanently closed.\")\n",
    "        else:\n",
    "            print(f\"Could not find place for place_id {place_id}.\")\n",
    "\n"
   ]
  },
  {
   "cell_type": "code",
   "execution_count": null,
   "id": "faf04882",
   "metadata": {},
   "outputs": [],
   "source": []
  }
 ],
 "metadata": {
  "kernelspec": {
   "display_name": "Python 3 (ipykernel)",
   "language": "python",
   "name": "python3"
  },
  "language_info": {
   "codemirror_mode": {
    "name": "ipython",
    "version": 3
   },
   "file_extension": ".py",
   "mimetype": "text/x-python",
   "name": "python",
   "nbconvert_exporter": "python",
   "pygments_lexer": "ipython3",
   "version": "3.11.5"
  }
 },
 "nbformat": 4,
 "nbformat_minor": 5
}
