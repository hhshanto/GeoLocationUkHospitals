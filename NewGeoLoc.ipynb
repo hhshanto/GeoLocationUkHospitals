{
 "cells": [
  {
   "cell_type": "code",
   "execution_count": 1,
   "id": "2d7d1665",
   "metadata": {},
   "outputs": [],
   "source": [
    "import pandas as pd\n",
    "import numpy as np\n",
    "import requests\n",
    "import csv\n",
    "import folium\n",
    "import ast"
   ]
  },
  {
   "cell_type": "code",
   "execution_count": 5,
   "id": "fc98e260",
   "metadata": {},
   "outputs": [],
   "source": [
    "# Load the data\n",
    "df = pd.read_excel('MergedData.xlsx')\n",
    "\n",
    "# List of columns that you want to keep\n",
    "columns = ['ID', 'Providers_08_09', 'Providers_09_10', 'Providers_10_11', 'Providers_11_12', \n",
    "           'Providers_12_13', 'Providers_13_14', 'Providers_14_15', 'Providers_15_16', \n",
    "           'Providers_16_17', 'Providers_17_18', 'Providers_18_19', 'Providers_19_20', \n",
    "           'Providers_20_21', 'Providers_21_22']\n",
    "\n",
    "# Create a new DataFrame with only the specified columns\n",
    "new_df = df[columns]\n",
    "\n",
    "# Export the new DataFrame to a CSV file\n",
    "new_df.to_csv('FilteredData.csv', index=False)\n"
   ]
  },
  {
   "cell_type": "code",
   "execution_count": 3,
   "id": "31a79faf",
   "metadata": {},
   "outputs": [
    {
     "data": {
      "text/plain": [
       "array([nan, 'South Gloucestershire PCT', 'Havering PCT', ..., 'Y7M2R',\n",
       "       'Y8L9S', 'Z9Z1G'], dtype=object)"
      ]
     },
     "execution_count": 3,
     "metadata": {},
     "output_type": "execute_result"
    }
   ],
   "source": [
    "new_df"
   ]
  },
  {
   "cell_type": "code",
   "execution_count": 4,
   "id": "7f691345",
   "metadata": {},
   "outputs": [],
   "source": [
    "# Convert the list to a DataFrame\n",
    "df = pd.DataFrame(hospitalsList, columns=['Hospital Name'])\n",
    "\n",
    "# Save the DataFrame to a csv file\n",
    "df.to_csv('hospitalsListNew.csv', index=False)"
   ]
  },
  {
   "cell_type": "code",
   "execution_count": 6,
   "id": "a97b04ea",
   "metadata": {},
   "outputs": [
    {
     "name": "stdout",
     "output_type": "stream",
     "text": [
      "        ID                Last_Provider_Name\n",
      "0      15A            NHS Berkshire West CCG\n",
      "1      15D            NHS East Berkshire CCG\n",
      "2      5A3         South Gloucestershire PCT\n",
      "3      5A4                      Havering PCT\n",
      "4      5A5                      Kingston PCT\n",
      "..     ...                               ...\n",
      "927    Y62                        North West\n",
      "928    Y63            North East & Yorkshire\n",
      "929  Y7M2R  Highgate Hospital Gender Service\n",
      "930  Y8L9S                 Spamedica Bromley\n",
      "931  Z9Z1G               Spamedica Gateshead\n",
      "\n",
      "[932 rows x 2 columns]\n"
     ]
    }
   ],
   "source": [
    "# Load the data\n",
    "df = pd.read_csv('FilteredData.csv')\n",
    "\n",
    "# List of columns that contain provider names\n",
    "provider_columns = ['Providers_08_09', 'Providers_09_10', 'Providers_10_11', 'Providers_11_12', \n",
    "                    'Providers_12_13', 'Providers_13_14', 'Providers_14_15', 'Providers_15_16', \n",
    "                    'Providers_16_17', 'Providers_17_18', 'Providers_18_19', 'Providers_19_20', \n",
    "                    'Providers_20_21', 'Providers_21_22']\n",
    "\n",
    "# Create a new column 'Last_Provider_Name' that contains the last non-null value from the provider columns\n",
    "df['Last_Provider_Name'] = df[provider_columns].bfill(axis=1).iloc[:, 0]\n",
    "\n",
    "# Create a new DataFrame that contains only the 'ID' and 'Last_Provider_Name' columns\n",
    "new_df = df[['ID', 'Last_Provider_Name']]\n",
    "\n",
    "# Print the new DataFrame\n",
    "print(new_df)\n"
   ]
  },
  {
   "cell_type": "code",
   "execution_count": 7,
   "id": "a067e170",
   "metadata": {},
   "outputs": [],
   "source": [
    "# Save the DataFrame to a csv file\n",
    "new_df.to_csv('Last_Provider_Name.csv', index=False)"
   ]
  },
  {
   "cell_type": "code",
   "execution_count": 8,
   "id": "fa331c09",
   "metadata": {},
   "outputs": [
    {
     "name": "stdout",
     "output_type": "stream",
     "text": [
      "         ID                Last_Provider_Name  \\\n",
      "0       15A            NHS Berkshire West CCG   \n",
      "1       15D            NHS East Berkshire CCG   \n",
      "2       5A3         South Gloucestershire PCT   \n",
      "3       5A4                      Havering PCT   \n",
      "4       5A5                      Kingston PCT   \n",
      "...     ...                               ...   \n",
      "1236    Y62                        North West   \n",
      "1237    Y63            North East & Yorkshire   \n",
      "1238  Y7M2R  Highgate Hospital Gender Service   \n",
      "1239  Y8L9S                 Spamedica Bromley   \n",
      "1240  Z9Z1G               Spamedica Gateshead   \n",
      "\n",
      "                                                 name  \\\n",
      "0     NHS Berkshire West Clinical Commissioning Group   \n",
      "1                                  East Berkshire CCG   \n",
      "2                        Bristol Community Health PCT   \n",
      "3               Havering Clinical Commissioning Group   \n",
      "4                             Get Active Kingston PCT   \n",
      "...                                               ...   \n",
      "1236                                North West Estate   \n",
      "1237                     NE.E. North East Estate GmbH   \n",
      "1238                        Highgate Private Hospital   \n",
      "1239                                        SpaMedica   \n",
      "1240                                        SpaMedica   \n",
      "\n",
      "                                                address  \\\n",
      "0          59 Bath Rd, Reading RG30 2BJ, United Kingdom   \n",
      "1      St. Leonards Rd, Windsor SL4 3DP, United Kingdom   \n",
      "2     Southmead Health Centre, Southmead, Bristol BS...   \n",
      "3     6th Floor, North House, St Edwards Way, Romfor...   \n",
      "4     Hollyfield House, 22 Hollyfield Rd, Surbiton K...   \n",
      "...                                                 ...   \n",
      "1236            Dresdner Str. 1, 04103 Leipzig, Germany   \n",
      "1237     Elisabeth-Mara-Straße 9, 10117 Berlin, Germany   \n",
      "1238       17-19 View Rd, London N6 4DJ, United Kingdom   \n",
      "1239  Northside House, 69 Tweedy Rd, Bromley BR1 3WA...   \n",
      "1240  The Edge, Fifth Ave, Team Valley, Gateshead NE...   \n",
      "\n",
      "                                          coordinates  \n",
      "0     {'lat': 51.4469456, 'lng': -0.9985252000000001}  \n",
      "1              {'lat': 51.4733077, 'lng': -0.6155565}  \n",
      "2               {'lat': 51.5045623, 'lng': -2.601432}  \n",
      "3        {'lat': 51.57991939999999, 'lng': 0.1795954}  \n",
      "4              {'lat': 51.3924216, 'lng': -0.2974033}  \n",
      "...                                               ...  \n",
      "1236           {'lat': 51.3385467, 'lng': 12.3853432}  \n",
      "1237           {'lat': 52.5099801, 'lng': 13.4040027}  \n",
      "1238           {'lat': 51.5764997, 'lng': -0.1568464}  \n",
      "1239            {'lat': 51.4085264, 'lng': 0.0165724}  \n",
      "1240           {'lat': 54.9339069, 'lng': -1.6145297}  \n",
      "\n",
      "[1241 rows x 5 columns]\n"
     ]
    }
   ],
   "source": [
    "# Load the hospital data\n",
    "hospital_df = pd.read_csv('hospital_data.csv')\n",
    "\n",
    "# Merge the two DataFrames on the 'OriginalName' and 'Last_Provider_Name' columns\n",
    "merged_df = pd.merge(new_df, hospital_df, how='left', left_on='Last_Provider_Name', right_on='OriginalName')\n",
    "\n",
    "# Keep only the necessary columns\n",
    "merged_df = merged_df[['ID', 'Last_Provider_Name', 'name', 'address', 'coordinates']]\n",
    "\n",
    "# Print the merged DataFrame\n",
    "print(merged_df)\n"
   ]
  },
  {
   "cell_type": "code",
   "execution_count": 10,
   "id": "58390b02",
   "metadata": {},
   "outputs": [],
   "source": []
  },
  {
   "cell_type": "code",
   "execution_count": 11,
   "id": "e403fbb4",
   "metadata": {},
   "outputs": [
    {
     "name": "stdout",
     "output_type": "stream",
     "text": [
      "         ID                              Last_Provider_Name  \\\n",
      "160   NDA03             Haslemere and District Hospital OPD   \n",
      "161   NDA03             Haslemere and District Hospital OPD   \n",
      "162   NDA07                       Walton Community Hospital   \n",
      "163   NDA07                       Walton Community Hospital   \n",
      "164   NDA18                       Woking Community Hospital   \n",
      "...     ...                                             ...   \n",
      "1216    TAD                    Bradford District Care Trust   \n",
      "1217    TAE  Manchester Mental Health And Social Care Trust   \n",
      "1218    TAE  Manchester Mental Health And Social Care Trust   \n",
      "1219    TAF       Camden And Islington NHS Foundation Trust   \n",
      "1220    TAF       Camden And Islington NHS Foundation Trust   \n",
      "\n",
      "                                                   name  \\\n",
      "160   Haslemere Community Hospital (Inpatient Services)   \n",
      "161   Haslemere Community Hospital (Inpatient Services)   \n",
      "162                           Walton Community Hospital   \n",
      "163                           Walton Community Hospital   \n",
      "164                           Woking Community Hospital   \n",
      "...                                                 ...   \n",
      "1216        Bradford District Care NHS Foundation Trust   \n",
      "1217   Manchester Psychological Therapies Service (NHS)   \n",
      "1218   Manchester Psychological Therapies Service (NHS)   \n",
      "1219          Camden and Islington NHS Foundation Trust   \n",
      "1220          Camden and Islington NHS Foundation Trust   \n",
      "\n",
      "                                                address  \\\n",
      "160       Church Ln, Haslemere GU27 2BJ, United Kingdom   \n",
      "161       Church Ln, Haslemere GU27 2BJ, United Kingdom   \n",
      "162   1 Rodney Rd, Walton-on-Thames KT12 3LD, United...   \n",
      "163   1 Rodney Rd, Walton-on-Thames KT12 3LD, United...   \n",
      "164       Heathside Rd, Woking GU22 7HS, United Kingdom   \n",
      "...                                                 ...   \n",
      "1216  New Mill, Victoria Rd, Saltaire, Shipley BD18 ...   \n",
      "1217  Chorlton House, 70 Manchester Rd, Chorlton-cum...   \n",
      "1218  Chorlton House, 70 Manchester Rd, Chorlton-cum...   \n",
      "1219   4 St Pancras Way, London NW1 0PE, United Kingdom   \n",
      "1220   4 St Pancras Way, London NW1 0PE, United Kingdom   \n",
      "\n",
      "                                        coordinates  \n",
      "160          {'lat': 51.0924965, 'lng': -0.7068443}  \n",
      "161          {'lat': 51.0924965, 'lng': -0.7068443}  \n",
      "162          {'lat': 51.3800152, 'lng': -0.4064252}  \n",
      "163          {'lat': 51.3800152, 'lng': -0.4064252}  \n",
      "164          {'lat': 51.3149838, 'lng': -0.5570744}  \n",
      "...                                             ...  \n",
      "1216  {'lat': 53.83953289999999, 'lng': -1.7888326}  \n",
      "1217         {'lat': 53.4452187, 'lng': -2.2780157}  \n",
      "1218         {'lat': 53.4452187, 'lng': -2.2780157}  \n",
      "1219  {'lat': 51.53641469999999, 'lng': -0.1319239}  \n",
      "1220  {'lat': 51.53641469999999, 'lng': -0.1319239}  \n",
      "\n",
      "[610 rows x 5 columns]\n"
     ]
    }
   ],
   "source": [
    "# Find duplicate IDs\n",
    "duplicate_ids = merged_df[merged_df.duplicated('ID', keep=False)]\n",
    "\n",
    "# Print the duplicate IDs\n",
    "print(duplicate_ids)\n"
   ]
  },
  {
   "cell_type": "code",
   "execution_count": 12,
   "id": "8182356d",
   "metadata": {},
   "outputs": [
    {
     "name": "stdout",
     "output_type": "stream",
     "text": [
      "         ID                Last_Provider_Name  \\\n",
      "0       15A            NHS Berkshire West CCG   \n",
      "1       15D            NHS East Berkshire CCG   \n",
      "2       5A3         South Gloucestershire PCT   \n",
      "3       5A4                      Havering PCT   \n",
      "4       5A5                      Kingston PCT   \n",
      "...     ...                               ...   \n",
      "1236    Y62                        North West   \n",
      "1237    Y63            North East & Yorkshire   \n",
      "1238  Y7M2R  Highgate Hospital Gender Service   \n",
      "1239  Y8L9S                 Spamedica Bromley   \n",
      "1240  Z9Z1G               Spamedica Gateshead   \n",
      "\n",
      "                                                 name  \\\n",
      "0     NHS Berkshire West Clinical Commissioning Group   \n",
      "1                                  East Berkshire CCG   \n",
      "2                        Bristol Community Health PCT   \n",
      "3               Havering Clinical Commissioning Group   \n",
      "4                             Get Active Kingston PCT   \n",
      "...                                               ...   \n",
      "1236                                North West Estate   \n",
      "1237                     NE.E. North East Estate GmbH   \n",
      "1238                        Highgate Private Hospital   \n",
      "1239                                        SpaMedica   \n",
      "1240                                        SpaMedica   \n",
      "\n",
      "                                                address  \\\n",
      "0          59 Bath Rd, Reading RG30 2BJ, United Kingdom   \n",
      "1      St. Leonards Rd, Windsor SL4 3DP, United Kingdom   \n",
      "2     Southmead Health Centre, Southmead, Bristol BS...   \n",
      "3     6th Floor, North House, St Edwards Way, Romfor...   \n",
      "4     Hollyfield House, 22 Hollyfield Rd, Surbiton K...   \n",
      "...                                                 ...   \n",
      "1236            Dresdner Str. 1, 04103 Leipzig, Germany   \n",
      "1237     Elisabeth-Mara-Straße 9, 10117 Berlin, Germany   \n",
      "1238       17-19 View Rd, London N6 4DJ, United Kingdom   \n",
      "1239  Northside House, 69 Tweedy Rd, Bromley BR1 3WA...   \n",
      "1240  The Edge, Fifth Ave, Team Valley, Gateshead NE...   \n",
      "\n",
      "                                          coordinates  \n",
      "0     {'lat': 51.4469456, 'lng': -0.9985252000000001}  \n",
      "1              {'lat': 51.4733077, 'lng': -0.6155565}  \n",
      "2               {'lat': 51.5045623, 'lng': -2.601432}  \n",
      "3        {'lat': 51.57991939999999, 'lng': 0.1795954}  \n",
      "4              {'lat': 51.3924216, 'lng': -0.2974033}  \n",
      "...                                               ...  \n",
      "1236           {'lat': 51.3385467, 'lng': 12.3853432}  \n",
      "1237           {'lat': 52.5099801, 'lng': 13.4040027}  \n",
      "1238           {'lat': 51.5764997, 'lng': -0.1568464}  \n",
      "1239            {'lat': 51.4085264, 'lng': 0.0165724}  \n",
      "1240           {'lat': 54.9339069, 'lng': -1.6145297}  \n",
      "\n",
      "[932 rows x 5 columns]\n"
     ]
    }
   ],
   "source": [
    "# Keep only the first instance of each ID\n",
    "unique_df = merged_df.drop_duplicates(subset='ID', keep='first')\n",
    "\n",
    "# Print the DataFrame with unique IDs\n",
    "print(unique_df)\n"
   ]
  },
  {
   "cell_type": "code",
   "execution_count": 13,
   "id": "eb20ef6f",
   "metadata": {},
   "outputs": [],
   "source": [
    "# Save the DataFrame to a csv file\n",
    "unique_df.to_csv('merged_df_ID.csv', index=False)"
   ]
  },
  {
   "cell_type": "code",
   "execution_count": null,
   "id": "f3ccdc1e",
   "metadata": {},
   "outputs": [],
   "source": []
  }
 ],
 "metadata": {
  "kernelspec": {
   "display_name": "Python 3 (ipykernel)",
   "language": "python",
   "name": "python3"
  },
  "language_info": {
   "codemirror_mode": {
    "name": "ipython",
    "version": 3
   },
   "file_extension": ".py",
   "mimetype": "text/x-python",
   "name": "python",
   "nbconvert_exporter": "python",
   "pygments_lexer": "ipython3",
   "version": "3.11.5"
  }
 },
 "nbformat": 4,
 "nbformat_minor": 5
}
