{
 "cells": [
  {
   "cell_type": "code",
   "execution_count": 1,
   "id": "1d74f2a5",
   "metadata": {},
   "outputs": [],
   "source": [
    "from selenium import webdriver\n",
    "from selenium.webdriver.chrome.service import Service\n",
    "from selenium.common.exceptions import NoSuchElementException\n",
    "from bs4 import BeautifulSoup\n",
    "import time\n",
    "import csv\n",
    "import re\n",
    "from geopy.geocoders import Nominatim\n",
    "import folium"
   ]
  },
  {
   "cell_type": "code",
   "execution_count": 2,
   "id": "85ff81e1",
   "metadata": {
    "collapsed": true
   },
   "outputs": [
    {
     "name": "stdout",
     "output_type": "stream",
     "text": [
      "['15A', '15D', '5A3', '5A4', '5A5', '5AT', '5C1', '5C4', '5C5', '5C9', '5CN', '5CQ', '5EF', '5F1', '5FE', '5FL', '5H8', '5J2', '5J9', '5JE', '5K3', '5K5', '5K7', '5KG', '5KL', '5L1', '5L3', '5LA', '5LG', '5M1', '5M2', '5M3', '5M6', '5M7', '5M8', '5MD', '5MK', '5MV', '5MX', '5N2', '5N5', '5N6', '5N8', '5N9', '5NE', '5NG', '5NH', '5NL', '5NN', '5NV', '5NW', '5P3', '5P4', '5P5', '5P6', '5P7', '5P8', '5PA', '5PC', '5PD', '5PE', '5PG', '5PH', '5PJ', '5PK', '5PL', '5PM', '5PP', '5PQ', '5PR', '5PT', '5PV', '5PX', '5PY', '5QA', '5QC', '5QD', '5QE', '5QF', '5QG', '5QH', '5QK', '5QL', '5QM', '5QN', '5QP', '5QQ', '5QR', '5QT', '8A101', '8A718', '8E339', '8G301', '8HE28', '8HP32', '8J285', 'A0C5S', 'A4M8P', 'AAH01', 'AAV02', 'ACG05', 'ACG06', 'ACG07', 'ACG08', 'ACG09', 'ACG10', 'ACG12', 'ACG13', 'ACG19', 'ACG20', 'ACG22', 'ACG24', 'ACG30', 'ACG36', 'ACG37', 'ACG38', 'ACG40', 'ACG41', 'ADP02', 'AHH01', 'AHR01', 'AJX01', 'ARH01', 'AVQ01', 'AVQ03', 'AXG01', 'AXG02', 'AXG03', 'B3M1X', 'B4N1U', 'B5M7B', 'B9J4U', 'B9M3W', 'DLY01', 'DM801', 'DX101', 'E4K5T', 'G3O5P', 'G3Z1Q', 'I9A4A', 'L0D9W', 'L6O7H', 'L9D3Z', 'M0N7E', 'M3R0W', 'M4C5R', 'M5E1S', 'M7C9Q', 'NAM01', 'NAM02', 'NAM03', 'NAM04', 'NAM06', 'NAM07', 'NAM09', 'NAX03', 'NCR01', 'NDA01', 'NDA03', 'NDA07', 'NDA18', 'NDA25', 'NDA26', 'NDAH9', 'NDAJ0', 'NDAJ1', 'NDAJ2', 'NDJ01', 'NED01', 'NED30', 'NEQ01', 'NEY01', 'NEY14', 'NFH01', 'NHM01', 'NHM02', 'NHM03', 'NHM04', 'NHM05', 'NHM15', 'NHM26', 'NHW01', 'NHW02', 'NHW03', 'NHW04', 'NLL01', 'NLL04', 'NLL07', 'NLL08', 'NLL09', 'NLL11', 'NLL13', 'NLL14', 'NLL15', 'NLL16', 'NLL17', 'NLL18', 'NLL19', 'NLL20', 'NLL21', 'NLT01', 'NLX01', 'NLX02', 'NLX22', 'NLY01', 'NMG77', 'NMM01', 'NN401', 'NN501', 'NN801', 'NN802', 'NN804', 'NNE02', 'NNH02', 'NNH03', 'NNH04', 'NNH05', 'NNH06', 'NNH07', 'NNQ01', 'NNV01', 'NNV2J', 'NPG01', 'NPG02', 'NPG05', 'NPG06', 'NPG07', 'NPG08', 'NPG10', 'NPG11', 'NPG12', 'NPG13', 'NPG14', 'NPG15', 'NPG16', 'NPG17', 'NPG18', 'NPG19', 'NPG20', 'NPG21', 'NPG22', 'NPG23', 'NQ106', 'NQ108', 'NQ713', 'NQ719', 'NQ738', 'NQA20', 'NQA31', 'NQA34', 'NQH09', 'NQH25', 'NQL01', 'NQM01', 'NQT5H', 'NQT5K', 'NR501', 'NR505', 'NR510', 'NR511', 'NR515', 'NR525', 'NR526', 'NR527', 'NR535', 'NRF04', 'NT202', 'NT204', 'NT205', 'NT206', 'NT207', 'NT209', 'NT210', 'NT211', 'NT212', 'NT213', 'NT214', 'NT215', 'NT216', 'NT218', 'NT219', 'NT221', 'NT222', 'NT224', 'NT225', 'NT226', 'NT229', 'NT230', 'NT233', 'NT235', 'NT237', 'NT238', 'NT239', 'NT241', 'NT242', 'NT244', 'NT245', 'NT255', 'NT301', 'NT302', 'NT304', 'NT305', 'NT308', 'NT309', 'NT30A', 'NT310', 'NT312', 'NT313', 'NT314', 'NT315', 'NT316', 'NT317', 'NT318', 'NT319', 'NT320', 'NT321', 'NT322', 'NT324', 'NT325', 'NT327', 'NT332', 'NT333', 'NT337', 'NT338', 'NT339', 'NT340', 'NT343', 'NT344', 'NT345', 'NT346', 'NT347', 'NT348', 'NT349', 'NT350', 'NT351', 'NT364', 'NT3X3', 'NT401', 'NT402', 'NT403', 'NT404', 'NT405', 'NT406', 'NT407', 'NT408', 'NT409', 'NT410', 'NT411', 'NT412', 'NT413', 'NT414', 'NT415', 'NT416', 'NT417', 'NT418', 'NT419', 'NT420', 'NT421', 'NT422', 'NT423', 'NT424', 'NT425', 'NT427', 'NT428', 'NT429', 'NT430', 'NT431', 'NT432', 'NT433', 'NT434', 'NT435', 'NT436', 'NT437', 'NT438', 'NT439', 'NT440', 'NT441', 'NT443', 'NT445', 'NT446', 'NT447', 'NT448', 'NT449', 'NT450', 'NT451', 'NT455', 'NT456', 'NT457', 'NT490', 'NT495', 'NT497', 'NT501', 'NT502', 'NT503', 'NT506', 'NT507', 'NT602', 'NT603', 'NT604', 'NT701', 'NT702', 'NT706', 'NT714', 'NT718', 'NT719', 'NT720', 'NT721', 'NT722', 'NT723', 'NT725', 'NT726', 'NTA01', 'NTA03', 'NTA04', 'NTC01', 'NTC02', 'NTC03', 'NTC04', 'NTC05', 'NTC09', 'NTD01', 'NTD02', 'NTE02', 'NTE03', 'NTF01', 'NTH01', 'NTH03', 'NTH04', 'NTH05', 'NTH06', 'NTH08', 'NTH09', 'NTH11', 'NTP11', 'NTP13', 'NTP14', 'NTP15', 'NTP16', 'NTP17', 'NTP23', 'NTP35', 'NTPC1', 'NTPH1', 'NTPH2', 'NTPH3', 'NTPH4', 'NTPH5', 'NTPH9', 'NTV01', 'NTV0O', 'NTV0S', 'NTX01', 'NTX06', 'NTX09', 'NTX0B', 'NTX0I', 'NTX0J', 'NTX11', 'NTX12', 'NTX19', 'NTX24', 'NTX51', 'NTY48', 'NTY57', 'NTYE7', 'NTYF1', 'NTYH9', 'NV1J5', 'NV302', 'NV313', 'NV323', 'NV7R1', 'NVC01', 'NVC02', 'NVC04', 'NVC05', 'NVC06', 'NVC07', 'NVC08', 'NVC09', 'NVC0I', 'NVC0M', 'NVC0R', 'NVC0Y', 'NVC10', 'NVC11', 'NVC12', 'NVC13', 'NVC14', 'NVC15', 'NVC16', 'NVC17', 'NVC18', 'NVC19', 'NVC1H', 'NVC20', 'NVC21', 'NVC22', 'NVC23', 'NVC24', 'NVC25', 'NVC26', 'NVC27', 'NVC28', 'NVC29', 'NVC31', 'NVC33', 'NVC34', 'NVC35', 'NVC39', 'NVC40', 'NVC44', 'NVG01', 'NVM01', 'NVM02', 'NVM03', 'NW601', 'NW602', 'NW603', 'NW604', 'NW605', 'NW608', 'NW612', 'NW616', 'NW931', 'NWF01', 'NWV01', 'NWX11', 'NX501', 'NX503', 'NX504', 'NX507', 'NXM01', 'NXM04', 'NXP02', 'NXP04', 'NXP08', 'NXP09', 'NXP13', 'NXP15', 'NXP16', 'NXP17', 'NXP18', 'NXP20', 'NXP21', 'NXP27', 'NXP30', 'NXP33', 'NXP37', 'NXP40', 'NXP41', 'NXP43', 'NY6', 'NY601', 'NY60C', 'NY60M', 'NY60T', 'NY61G', 'NY61N', 'NY62M', 'NY631', 'NY65M', 'NY66M', 'NY677', 'NY67L', 'NY693', 'NY69L', 'NY6D2', 'NY6E8', 'NY6G8', 'NY6H9', 'NYG0A', 'NYG0B', 'NYG0D', 'NYG0E', 'NYG0F', 'NYG26', 'NYG29', 'NYG30', 'NYG31', 'NYG32', 'NYG39', 'NYG42', 'NYW01', 'NYW02', 'NYW03', 'NYW04', 'NYW17', 'NYW20', 'P1B7M', 'P5Y6K', 'Q1W6P', 'Q30', 'Q31', 'Q32', 'Q33', 'Q34', 'Q35', 'Q36', 'Q37', 'Q38', 'Q39', 'Q44', 'Q45', 'Q46', 'Q47', 'Q48', 'Q49', 'Q50', 'Q51', 'Q52', 'Q53', 'Q54', 'Q55', 'Q56', 'Q57', 'Q58', 'Q59', 'Q60', 'Q64', 'Q65', 'Q66', 'Q67', 'Q68', 'Q69', 'Q70', 'Q71', 'R0A', 'R0B', 'R0D', 'R1A', 'R1C', 'R1D', 'R1E', 'R1F-X', 'R1G', 'R1G7E', 'R1H', 'R1J', 'R1K', 'R1L', 'R6E4R', 'R8J1V', 'RA2', 'RA3', 'RA4', 'RA7', 'RA9', 'RC1', 'RC3', 'RC9', 'RD1', 'RD3', 'RD7', 'RD8', 'RE9', 'RF4', 'RG2', 'RG3', 'RH5', 'RH8', 'RJ1', 'RJ1-X', 'RJ2', 'RJ6', 'RJ7', 'RJ8', 'RK5', 'RK9', 'RL1', 'RL4', 'RM1', 'RM2', 'RM3', 'RM4', 'RN1', 'RN1-X', 'RN3', 'RN5', 'RN5-X', 'RN5T1', 'RN7', 'RN7-X', 'RP1', 'RP4', 'RP5', 'RP6', 'RP6-X', 'RP7', 'RQ3', 'RQ6', 'RQ8', 'RR1', 'RR1-X', 'RR7', 'RR7-X', 'RR8', 'RT1', 'RT2', 'RT3', 'RT5', 'RT6', 'RV3', 'RV5', 'RV7', 'RV8', 'RV9', 'RV9-X', 'RW1', 'RW3', 'RW3-X', 'RW4', 'RW5', 'RW6', 'RX1', 'RX2', 'RX3', 'RX4', 'RY1', 'RY3', 'RY4', 'RY5', 'RY6', 'RY8', 'RY9', 'T8R5I', 'U8P2Z', 'W00', 'Y4Z7I', 'Y54', 'Y55', 'Y56', 'Y57', 'Y58', 'Y59', 'Y60', 'Y61', 'Y62', 'Y63', 'Y7M2R', 'Y8L9S', 'Z9Z1G']\n"
     ]
    },
    {
     "data": {
      "text/plain": [
       "742"
      ]
     },
     "execution_count": 2,
     "metadata": {},
     "output_type": "execute_result"
    }
   ],
   "source": [
    "# regular expression pattern for IDs that are mixed with numbers and alphabet\n",
    "pattern = re.compile(r'[0-9]+[a-zA-Z]+|[a-zA-Z]+[0-9]+')\n",
    "\n",
    "with open('FilteredData.csv', 'r') as file:\n",
    "    reader = csv.DictReader(file)\n",
    "\n",
    "    mixed_ids = [row['ID'] for row in reader if pattern.match(row['ID'])]\n",
    "\n",
    "print(mixed_ids)\n",
    "len(mixed_ids)"
   ]
  },
  {
   "cell_type": "code",
   "execution_count": 3,
   "id": "d9a6dd3e",
   "metadata": {},
   "outputs": [
    {
     "name": "stdout",
     "output_type": "stream",
     "text": [
      "['England', 'ENGLAND', 'NTPAD', 'NTPAE', 'NTPAT', 'RAE', 'RAJ', 'RAL', 'RAN', 'RAP', 'RAS', 'RAT', 'RAX', 'RBA', 'RBB', 'RBD', 'RBF', 'RBF-X', 'RBK', 'RBL', 'RBN', 'RBQ', 'RBS', 'RBT', 'RBV', 'RBZ', 'RCB', 'RCC', 'RCD', 'RCF', 'RCU', 'RCX', 'RDD', 'RDE', 'RDR', 'RDU', 'RDY', 'RDZ', 'REF', 'REF-X', 'REM', 'REN', 'REP', 'RET', 'RFF', 'RFR', 'RFS', 'RFW', 'RGC', 'RGD', 'RGM', 'RGN', 'RGP', 'RGQ', 'RGR', 'RGT', 'RGZ', 'RHA', 'RHM', 'RHQ', 'RHU', 'RHW', 'RHX', 'RJC', 'RJD', 'RJD-X', 'RJDTC', 'RJE', 'RJF', 'RJL', 'RJL-X', 'RJN', 'RJR', 'RJX', 'RJZ', 'RKB', 'RKE', 'RKL', 'RLN', 'RLQ', 'RLT', 'RLU', 'RLY', 'RMC', 'RMP', 'RMY', 'RMY-X', 'RNA', 'RNH', 'RNJ', 'RNL', 'RNN', 'RNQ', 'RNS', 'RNU', 'RNZ', 'RPA', 'RPC', 'RPG', 'RPL', 'RPR', 'RPY', 'RQM', 'RQQ', 'RQQ-X', 'RQW', 'RQX', 'RQY', 'RRD', 'RRE', 'RRF', 'RRJ', 'RRK', 'RRK-X', 'RRP', 'RRV', 'RTD', 'RTE', 'RTF', 'RTG', 'RTH', 'RTK', 'RTP', 'RTQ', 'RTR', 'RTV', 'RTX', 'RVJ', 'RVJ-X', 'RVL', 'RVN', 'RVR', 'RVR-X', 'RVV', 'RVW', 'RVY', 'RWA', 'RWD', 'RWE', 'RWF', 'RWG', 'RWH', 'RWJ', 'RWK', 'RWN', 'RWP', 'RWP-X', 'RWQ', 'RWR', 'RWV', 'RWW', 'RWX', 'RWY', 'RXA', 'RXC', 'RXE', 'RXF', 'RXF-X', 'RXG', 'RXH', 'RXK', 'RXK-X', 'RXKTC', 'RXL', 'RXM', 'RXN', 'RXP', 'RXQ', 'RXR', 'RXT', 'RXV', 'RXW', 'RXX', 'RXY', 'RYG', 'RYJ', 'RYK', 'RYQ', 'RYR', 'RYR-X', 'RYV', 'RYW', 'RYY', 'TAD', 'TAE', 'TAF', 'TAH', 'TAJ', 'TAL', 'TAN']\n"
     ]
    },
    {
     "data": {
      "text/plain": [
       "190"
      ]
     },
     "execution_count": 3,
     "metadata": {},
     "output_type": "execute_result"
    }
   ],
   "source": [
    "with open('FilteredData.csv', 'r') as file:\n",
    "    reader = csv.DictReader(file)\n",
    "\n",
    "    all_ids = [row['ID'] for row in reader]\n",
    "\n",
    "not_mixed_ids = [id for id in all_ids if id not in mixed_ids]\n",
    "\n",
    "print(not_mixed_ids)\n",
    "len(not_mixed_ids)"
   ]
  },
  {
   "cell_type": "code",
   "execution_count": 12,
   "id": "d6e2fd0f",
   "metadata": {},
   "outputs": [],
   "source": [
    "codess= not_mixed_ids"
   ]
  },
  {
   "cell_type": "code",
   "execution_count": 13,
   "id": "5fc43691",
   "metadata": {},
   "outputs": [],
   "source": [
    "def scrape_data(base_url, codes):\n",
    "    # new Chrome browser instance\n",
    "    webdriver_service = Service(\"C:\\Program Files (x86)\\chromedriver.exe\")\n",
    "    driver = webdriver.Chrome(service=webdriver_service)\n",
    "\n",
    "    # Open the CSV file in write mode\n",
    "    with open('scraped_data_.csv', 'w', newline='') as file:\n",
    "        writer = csv.writer(file)\n",
    "        # Write the header row\n",
    "        writer.writerow(['ID', 'Name', 'National Grouping', 'Higher Health Authority', 'Opened', 'Closed', 'Address', 'NHSTRUSTSITE Code', 'NHSTRUSTSITE Name'])\n",
    "\n",
    "        for code in codes:\n",
    "            try:\n",
    "                # Navigate to the base page\n",
    "                driver.get(base_url)\n",
    "\n",
    "                # Wait for the page to load\n",
    "                time.sleep(1)\n",
    "\n",
    "                # Find the input box and enter the code\n",
    "                input_box = driver.find_element('id', 'Code')\n",
    "                input_box.send_keys(code)\n",
    "\n",
    "                # Find the search button and click it\n",
    "                search_button = driver.find_element('id', 'Search')\n",
    "                search_button.click()\n",
    "\n",
    "                # Wait for the new page to load\n",
    "                time.sleep(1)\n",
    "\n",
    "                # Get the page source\n",
    "                page_source = driver.page_source\n",
    "\n",
    "                # Create a BeautifulSoup object and specify the parser\n",
    "                soup = BeautifulSoup(page_source, 'html.parser')\n",
    "\n",
    "                # Find the name\n",
    "                name_element = soup.find('div', attrs={'class': 'row col-lg-12'})\n",
    "                if name_element is not None:\n",
    "                    name = name_element.text.strip()\n",
    "                else:\n",
    "                    name = \"N/A\"\n",
    "\n",
    "                # Find the data \n",
    "                data = soup.find_all('div', attrs={'class': 'row'})\n",
    "\n",
    "                # Extract the information from the data\n",
    "                row_data = {'ID': code, 'Name': name}\n",
    "                for element in data:\n",
    "                    label = element.find('div', attrs={'class': 'col-lg-3 control-label'})\n",
    "                    value = element.find('div', attrs={'class': 'col-lg-9'})\n",
    "                    if label and value:\n",
    "                        label_text = label.text.strip().replace(':', '')\n",
    "                        value_text = ' '.join(value.text.split())\n",
    "                        row_data[label_text] = value_text\n",
    "\n",
    "                # Find the NHS TRUST SITE dropdown\n",
    "                nhs_trust_site = soup.find('div', attrs={'id': 'NHSTRUSTSITE'})\n",
    "\n",
    "                # Check if the dropdown exists\n",
    "                if nhs_trust_site is not None:\n",
    "                    # Find all the 'a' tags within the dropdown\n",
    "                    dropdown_options = nhs_trust_site.find_all('a')\n",
    "\n",
    "                    # Loop through each option\n",
    "                    for option in dropdown_options:\n",
    "                        # Find the 'div' tags for the code and name\n",
    "                        code_div = option.find('div', attrs={'class': 'col-lg-1 panel-list-text'})\n",
    "                        name_div = option.find('div', attrs={'class': 'col-lg-5 panel-list-text'})\n",
    "\n",
    "                        # Check if the 'div' tags exist and extract the text\n",
    "                        if code_div and name_div:\n",
    "                            nhs_code = code_div.text.strip()\n",
    "                            nhs_name = name_div.text.strip()\n",
    "\n",
    "                            # Add the NHS TRUST SITE code and name to the row data\n",
    "                            row_data['NHSTRUSTSITE Code'] = nhs_code\n",
    "                            row_data['NHSTRUSTSITE Name'] = nhs_name\n",
    "\n",
    "                            # Ensure all fields are present in the row\n",
    "                            for field in ['ID', 'Name', 'National Grouping', 'Higher Health Authority', 'Opened', 'Closed', 'Address', 'NHSTRUSTSITE Code', 'NHSTRUSTSITE Name']:\n",
    "                                if field not in row_data:\n",
    "                                    row_data[field] = 'N/A'\n",
    "\n",
    "                            # Write the row data in the correct order\n",
    "                            writer.writerow([row_data[field] for field in ['ID', 'Name', 'National Grouping', 'Higher Health Authority', 'Opened', 'Closed', 'Address', 'NHSTRUSTSITE Code', 'NHSTRUSTSITE Name']])\n",
    "                else:\n",
    "                    # Ensure all fields are present in the row\n",
    "                    for field in ['ID', 'Name', 'National Grouping', 'Higher Health Authority', 'Opened', 'Closed', 'Address', 'NHSTRUSTSITE Code', 'NHSTRUSTSITE Name']:\n",
    "                        if field not in row_data:\n",
    "                            row_data[field] = 'N/A'\n",
    "\n",
    "                    # Write the row data in the correct order without NHS TRUST SITE data\n",
    "                    writer.writerow([row_data[field] for field in ['ID', 'Name', 'National Grouping', 'Higher Health Authority', 'Opened', 'Closed', 'Address', 'NHSTRUSTSITE Code', 'NHSTRUSTSITE Name']])\n",
    "            except NoSuchElementException:\n",
    "                print(f\"Unable to find element for code: {code}. Skipping to next code.\")\n",
    "                continue\n",
    "\n",
    "    driver.quit()\n"
   ]
  },
  {
   "cell_type": "code",
   "execution_count": null,
   "id": "02be5625",
   "metadata": {},
   "outputs": [],
   "source": [
    "base_url = 'https://odsportal.digital.nhs.uk/Organisation/Search/'\n",
    "\n",
    "codes = codess\n",
    "\n",
    "scrape_data(base_url, codes)"
   ]
  }
 ],
 "metadata": {
  "kernelspec": {
   "display_name": "Python 3 (ipykernel)",
   "language": "python",
   "name": "python3"
  },
  "language_info": {
   "codemirror_mode": {
    "name": "ipython",
    "version": 3
   },
   "file_extension": ".py",
   "mimetype": "text/x-python",
   "name": "python",
   "nbconvert_exporter": "python",
   "pygments_lexer": "ipython3",
   "version": "3.11.5"
  }
 },
 "nbformat": 4,
 "nbformat_minor": 5
}
